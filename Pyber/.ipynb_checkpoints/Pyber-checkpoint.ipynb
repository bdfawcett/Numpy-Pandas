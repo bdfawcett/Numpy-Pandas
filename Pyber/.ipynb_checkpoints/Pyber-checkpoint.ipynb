{
 "cells": [
  {
   "cell_type": "code",
   "execution_count": null,
   "metadata": {
    "collapsed": true
   },
   "outputs": [],
   "source": [
    "\"\"\"\n",
    "Pyber Ride Sharing Analysis\n",
    "\n",
    "The highest percentage of rides and fares are generated in urban areas.\n",
    "The highest percentage of drivers are also present in urban areas.  \n",
    "However, the average fare increases as the city type becomes more rural.\n",
    "There is one outlier city that requires verification and further research.  The data indicates there is a small number of drivers\n",
    "providing over 60 rides in a single city.  This is nearly double the next highest number of rides for a single city.\n",
    "\n",
    "\"\"\""
   ]
  },
  {
   "cell_type": "code",
   "execution_count": 385,
   "metadata": {
    "collapsed": true
   },
   "outputs": [],
   "source": [
    "# Dependencies\n",
    "import matplotlib.pyplot as plt\n",
    "import numpy as np\n",
    "import pandas as pd\n",
    "import os"
   ]
  },
  {
   "cell_type": "code",
   "execution_count": 386,
   "metadata": {},
   "outputs": [
    {
     "data": {
      "text/html": [
       "<div>\n",
       "<style>\n",
       "    .dataframe thead tr:only-child th {\n",
       "        text-align: right;\n",
       "    }\n",
       "\n",
       "    .dataframe thead th {\n",
       "        text-align: left;\n",
       "    }\n",
       "\n",
       "    .dataframe tbody tr th {\n",
       "        vertical-align: top;\n",
       "    }\n",
       "</style>\n",
       "<table border=\"1\" class=\"dataframe\">\n",
       "  <thead>\n",
       "    <tr style=\"text-align: right;\">\n",
       "      <th></th>\n",
       "      <th>city</th>\n",
       "      <th>driver_count</th>\n",
       "      <th>type</th>\n",
       "    </tr>\n",
       "  </thead>\n",
       "  <tbody>\n",
       "    <tr>\n",
       "      <th>0</th>\n",
       "      <td>Kelseyland</td>\n",
       "      <td>63</td>\n",
       "      <td>Urban</td>\n",
       "    </tr>\n",
       "    <tr>\n",
       "      <th>1</th>\n",
       "      <td>Nguyenbury</td>\n",
       "      <td>8</td>\n",
       "      <td>Urban</td>\n",
       "    </tr>\n",
       "    <tr>\n",
       "      <th>2</th>\n",
       "      <td>East Douglas</td>\n",
       "      <td>12</td>\n",
       "      <td>Urban</td>\n",
       "    </tr>\n",
       "    <tr>\n",
       "      <th>3</th>\n",
       "      <td>West Dawnfurt</td>\n",
       "      <td>34</td>\n",
       "      <td>Urban</td>\n",
       "    </tr>\n",
       "    <tr>\n",
       "      <th>4</th>\n",
       "      <td>Rodriguezburgh</td>\n",
       "      <td>52</td>\n",
       "      <td>Urban</td>\n",
       "    </tr>\n",
       "  </tbody>\n",
       "</table>\n",
       "</div>"
      ],
      "text/plain": [
       "             city  driver_count   type\n",
       "0      Kelseyland            63  Urban\n",
       "1      Nguyenbury             8  Urban\n",
       "2    East Douglas            12  Urban\n",
       "3   West Dawnfurt            34  Urban\n",
       "4  Rodriguezburgh            52  Urban"
      ]
     },
     "execution_count": 386,
     "metadata": {},
     "output_type": "execute_result"
    }
   ],
   "source": [
    "# Read CSV\n",
    "city_data_path = os.path.join('raw_data','city_data.csv')\n",
    "ride_data_path = os.path.join('raw_data','ride_data.csv')\n",
    "city_data = pd.read_csv(city_data_path)\n",
    "ride_data = pd.read_csv(ride_data_path)\n",
    "city_data.head()"
   ]
  },
  {
   "cell_type": "code",
   "execution_count": 387,
   "metadata": {},
   "outputs": [
    {
     "data": {
      "text/html": [
       "<div>\n",
       "<style>\n",
       "    .dataframe thead tr:only-child th {\n",
       "        text-align: right;\n",
       "    }\n",
       "\n",
       "    .dataframe thead th {\n",
       "        text-align: left;\n",
       "    }\n",
       "\n",
       "    .dataframe tbody tr th {\n",
       "        vertical-align: top;\n",
       "    }\n",
       "</style>\n",
       "<table border=\"1\" class=\"dataframe\">\n",
       "  <thead>\n",
       "    <tr style=\"text-align: right;\">\n",
       "      <th></th>\n",
       "      <th>city</th>\n",
       "      <th>date</th>\n",
       "      <th>fare</th>\n",
       "      <th>ride_id</th>\n",
       "      <th>driver_count</th>\n",
       "      <th>type</th>\n",
       "    </tr>\n",
       "  </thead>\n",
       "  <tbody>\n",
       "    <tr>\n",
       "      <th>0</th>\n",
       "      <td>Sarabury</td>\n",
       "      <td>2016-01-16 13:49:27</td>\n",
       "      <td>38.35</td>\n",
       "      <td>5403689035038</td>\n",
       "      <td>46</td>\n",
       "      <td>Urban</td>\n",
       "    </tr>\n",
       "    <tr>\n",
       "      <th>1</th>\n",
       "      <td>South Roy</td>\n",
       "      <td>2016-01-02 18:42:34</td>\n",
       "      <td>17.49</td>\n",
       "      <td>4036272335942</td>\n",
       "      <td>35</td>\n",
       "      <td>Urban</td>\n",
       "    </tr>\n",
       "    <tr>\n",
       "      <th>2</th>\n",
       "      <td>Wiseborough</td>\n",
       "      <td>2016-01-21 17:35:29</td>\n",
       "      <td>44.18</td>\n",
       "      <td>3645042422587</td>\n",
       "      <td>55</td>\n",
       "      <td>Urban</td>\n",
       "    </tr>\n",
       "    <tr>\n",
       "      <th>3</th>\n",
       "      <td>Spencertown</td>\n",
       "      <td>2016-07-31 14:53:22</td>\n",
       "      <td>6.87</td>\n",
       "      <td>2242596575892</td>\n",
       "      <td>68</td>\n",
       "      <td>Urban</td>\n",
       "    </tr>\n",
       "    <tr>\n",
       "      <th>4</th>\n",
       "      <td>Nguyenbury</td>\n",
       "      <td>2016-07-09 04:42:44</td>\n",
       "      <td>6.28</td>\n",
       "      <td>1543057793673</td>\n",
       "      <td>8</td>\n",
       "      <td>Urban</td>\n",
       "    </tr>\n",
       "  </tbody>\n",
       "</table>\n",
       "</div>"
      ],
      "text/plain": [
       "          city                 date   fare        ride_id  driver_count   type\n",
       "0     Sarabury  2016-01-16 13:49:27  38.35  5403689035038            46  Urban\n",
       "1    South Roy  2016-01-02 18:42:34  17.49  4036272335942            35  Urban\n",
       "2  Wiseborough  2016-01-21 17:35:29  44.18  3645042422587            55  Urban\n",
       "3  Spencertown  2016-07-31 14:53:22   6.87  2242596575892            68  Urban\n",
       "4   Nguyenbury  2016-07-09 04:42:44   6.28  1543057793673             8  Urban"
      ]
     },
     "execution_count": 387,
     "metadata": {},
     "output_type": "execute_result"
    }
   ],
   "source": [
    "# Merge the two DataFrames into one by city\n",
    "merged_data = pd.merge(ride_data, city_data, how='left', on='city')\n",
    "merged_data.head()"
   ]
  },
  {
   "cell_type": "code",
   "execution_count": 388,
   "metadata": {},
   "outputs": [
    {
     "data": {
      "text/html": [
       "<div>\n",
       "<style>\n",
       "    .dataframe thead tr:only-child th {\n",
       "        text-align: right;\n",
       "    }\n",
       "\n",
       "    .dataframe thead th {\n",
       "        text-align: left;\n",
       "    }\n",
       "\n",
       "    .dataframe tbody tr th {\n",
       "        vertical-align: top;\n",
       "    }\n",
       "</style>\n",
       "<table border=\"1\" class=\"dataframe\">\n",
       "  <thead>\n",
       "    <tr style=\"text-align: right;\">\n",
       "      <th></th>\n",
       "      <th>city</th>\n",
       "      <th>date</th>\n",
       "      <th>fare</th>\n",
       "      <th>ride_id</th>\n",
       "      <th>driver_count</th>\n",
       "      <th>type</th>\n",
       "    </tr>\n",
       "  </thead>\n",
       "  <tbody>\n",
       "    <tr>\n",
       "      <th>155</th>\n",
       "      <td>Alvarezhaven</td>\n",
       "      <td>2016-09-01 22:57:12</td>\n",
       "      <td>18.09</td>\n",
       "      <td>1197329964911</td>\n",
       "      <td>21</td>\n",
       "      <td>lightcoral</td>\n",
       "    </tr>\n",
       "    <tr>\n",
       "      <th>1053</th>\n",
       "      <td>Alyssaberg</td>\n",
       "      <td>2016-07-01 15:29:08</td>\n",
       "      <td>36.00</td>\n",
       "      <td>1283730954082</td>\n",
       "      <td>67</td>\n",
       "      <td>lightcoral</td>\n",
       "    </tr>\n",
       "    <tr>\n",
       "      <th>2176</th>\n",
       "      <td>Anitamouth</td>\n",
       "      <td>2016-07-14 16:11:11</td>\n",
       "      <td>48.93</td>\n",
       "      <td>7745514475878</td>\n",
       "      <td>16</td>\n",
       "      <td>lightskyblue</td>\n",
       "    </tr>\n",
       "    <tr>\n",
       "      <th>1615</th>\n",
       "      <td>Antoniomouth</td>\n",
       "      <td>2016-03-09 08:07:17</td>\n",
       "      <td>31.20</td>\n",
       "      <td>1712057358094</td>\n",
       "      <td>21</td>\n",
       "      <td>lightcoral</td>\n",
       "    </tr>\n",
       "    <tr>\n",
       "      <th>508</th>\n",
       "      <td>Aprilchester</td>\n",
       "      <td>2016-08-06 07:30:30</td>\n",
       "      <td>14.91</td>\n",
       "      <td>3702913189953</td>\n",
       "      <td>49</td>\n",
       "      <td>lightcoral</td>\n",
       "    </tr>\n",
       "  </tbody>\n",
       "</table>\n",
       "</div>"
      ],
      "text/plain": [
       "              city                 date   fare        ride_id  driver_count  \\\n",
       "155   Alvarezhaven  2016-09-01 22:57:12  18.09  1197329964911            21   \n",
       "1053    Alyssaberg  2016-07-01 15:29:08  36.00  1283730954082            67   \n",
       "2176    Anitamouth  2016-07-14 16:11:11  48.93  7745514475878            16   \n",
       "1615  Antoniomouth  2016-03-09 08:07:17  31.20  1712057358094            21   \n",
       "508   Aprilchester  2016-08-06 07:30:30  14.91  3702913189953            49   \n",
       "\n",
       "              type  \n",
       "155     lightcoral  \n",
       "1053    lightcoral  \n",
       "2176  lightskyblue  \n",
       "1615    lightcoral  \n",
       "508     lightcoral  "
      ]
     },
     "execution_count": 388,
     "metadata": {},
     "output_type": "execute_result"
    }
   ],
   "source": [
    "# Replace city type with colors, sort by city, and drop duplicates to reference in bubble plot \n",
    "city_type_colors = merged_data.replace({'Urban':'lightcoral','Suburban':'lightskyblue','Rural':'gold'}).sort_values('city').drop_duplicates('city')\n",
    "city_type_colors.head()"
   ]
  },
  {
   "cell_type": "code",
   "execution_count": 389,
   "metadata": {},
   "outputs": [
    {
     "data": {
      "text/plain": [
       "city\n",
       "Alvarezhaven            31\n",
       "Alyssaberg              26\n",
       "Anitamouth               9\n",
       "Antoniomouth            22\n",
       "Aprilchester            19\n",
       "Arnoldview              31\n",
       "Campbellport            15\n",
       "Carrollbury             10\n",
       "Carrollfort             29\n",
       "Clarkstad               12\n",
       "Conwaymouth             11\n",
       "Davidtown               21\n",
       "Davistown               25\n",
       "East Cherylfurt         13\n",
       "East Douglas            22\n",
       "East Erin               28\n",
       "East Jenniferchester    19\n",
       "East Leslie             11\n",
       "East Stephen            10\n",
       "East Troybury            7\n",
       "Edwardsbury             27\n",
       "Erikport                 8\n",
       "Eriktown                19\n",
       "Floresberg              10\n",
       "Fosterside              24\n",
       "Hernandezshire           9\n",
       "Horneland                4\n",
       "Jacksonfort              6\n",
       "Jacobfort               31\n",
       "Jasonfort               12\n",
       "                        ..\n",
       "South Roy               22\n",
       "South Shannonborough    15\n",
       "Spencertown             26\n",
       "Stevensport              5\n",
       "Stewartview             30\n",
       "Swansonbury             34\n",
       "Thomastown              24\n",
       "Tiffanyton              13\n",
       "Torresshire             26\n",
       "Travisville             23\n",
       "Vickimouth              15\n",
       "Webstertown             16\n",
       "West Alexis             20\n",
       "West Brandy             30\n",
       "West Brittanyton        24\n",
       "West Dawnfurt           29\n",
       "West Evan               12\n",
       "West Jefferyfurt        21\n",
       "West Kevintown           7\n",
       "West Oscar              29\n",
       "West Pamelaborough      14\n",
       "West Paulport           17\n",
       "West Peter              31\n",
       "West Sydneyhaven        18\n",
       "West Tony               19\n",
       "Williamchester          11\n",
       "Williamshire            31\n",
       "Wiseborough             19\n",
       "Yolandafurt             20\n",
       "Zimmermanmouth          24\n",
       "Length: 125, dtype: int64"
      ]
     },
     "execution_count": 389,
     "metadata": {},
     "output_type": "execute_result"
    }
   ],
   "source": [
    "# Group merged data by city\n",
    "merged_data_by_city = merged_data.groupby(by='city')\n",
    "merged_data_by_city.size()"
   ]
  },
  {
   "cell_type": "code",
   "execution_count": 390,
   "metadata": {},
   "outputs": [
    {
     "data": {
      "text/plain": [
       "city\n",
       "Alvarezhaven            23.928710\n",
       "Alyssaberg              20.609615\n",
       "Anitamouth              37.315556\n",
       "Antoniomouth            23.625000\n",
       "Aprilchester            21.981579\n",
       "Arnoldview              25.106452\n",
       "Campbellport            33.711333\n",
       "Carrollbury             36.606000\n",
       "Carrollfort             25.395517\n",
       "Clarkstad               31.051667\n",
       "Conwaymouth             34.591818\n",
       "Davidtown               22.978095\n",
       "Davistown               21.497200\n",
       "East Cherylfurt         31.416154\n",
       "East Douglas            26.169091\n",
       "East Erin               24.478214\n",
       "East Jenniferchester    32.599474\n",
       "East Leslie             33.660909\n",
       "East Stephen            39.053000\n",
       "East Troybury           33.244286\n",
       "Edwardsbury             26.876667\n",
       "Erikport                30.043750\n",
       "Eriktown                25.478947\n",
       "Floresberg              32.310000\n",
       "Fosterside              23.034583\n",
       "Hernandezshire          32.002222\n",
       "Horneland               21.482500\n",
       "Jacksonfort             32.006667\n",
       "Jacobfort               24.779355\n",
       "Jasonfort               27.831667\n",
       "                          ...    \n",
       "South Roy               26.031364\n",
       "South Shannonborough    26.516667\n",
       "Spencertown             23.681154\n",
       "Stevensport             31.948000\n",
       "Stewartview             21.614000\n",
       "Swansonbury             27.464706\n",
       "Thomastown              30.308333\n",
       "Tiffanyton              28.510000\n",
       "Torresshire             24.207308\n",
       "Travisville             27.220870\n",
       "Vickimouth              21.474667\n",
       "Webstertown             29.721250\n",
       "West Alexis             19.523000\n",
       "West Brandy             24.157667\n",
       "West Brittanyton        25.436250\n",
       "West Dawnfurt           22.330345\n",
       "West Evan               27.013333\n",
       "West Jefferyfurt        21.072857\n",
       "West Kevintown          21.528571\n",
       "West Oscar              24.280000\n",
       "West Pamelaborough      33.799286\n",
       "West Paulport           33.278235\n",
       "West Peter              24.875484\n",
       "West Sydneyhaven        22.368333\n",
       "West Tony               29.609474\n",
       "Williamchester          34.278182\n",
       "Williamshire            26.990323\n",
       "Wiseborough             22.676842\n",
       "Yolandafurt             27.205500\n",
       "Zimmermanmouth          28.301667\n",
       "Name: fare, Length: 125, dtype: float64"
      ]
     },
     "execution_count": 390,
     "metadata": {},
     "output_type": "execute_result"
    }
   ],
   "source": [
    "# Calculate average fare on grouped data\n",
    "average_fare = merged_data_by_city['fare'].mean()\n",
    "average_fare"
   ]
  },
  {
   "cell_type": "code",
   "execution_count": 391,
   "metadata": {},
   "outputs": [
    {
     "data": {
      "text/plain": [
       "city\n",
       "Alvarezhaven            31\n",
       "Alyssaberg              26\n",
       "Anitamouth               9\n",
       "Antoniomouth            22\n",
       "Aprilchester            19\n",
       "Arnoldview              31\n",
       "Campbellport            15\n",
       "Carrollbury             10\n",
       "Carrollfort             29\n",
       "Clarkstad               12\n",
       "Conwaymouth             11\n",
       "Davidtown               21\n",
       "Davistown               25\n",
       "East Cherylfurt         13\n",
       "East Douglas            22\n",
       "East Erin               28\n",
       "East Jenniferchester    19\n",
       "East Leslie             11\n",
       "East Stephen            10\n",
       "East Troybury            7\n",
       "Edwardsbury             27\n",
       "Erikport                 8\n",
       "Eriktown                19\n",
       "Floresberg              10\n",
       "Fosterside              24\n",
       "Hernandezshire           9\n",
       "Horneland                4\n",
       "Jacksonfort              6\n",
       "Jacobfort               31\n",
       "Jasonfort               12\n",
       "                        ..\n",
       "South Roy               22\n",
       "South Shannonborough    15\n",
       "Spencertown             26\n",
       "Stevensport              5\n",
       "Stewartview             30\n",
       "Swansonbury             34\n",
       "Thomastown              24\n",
       "Tiffanyton              13\n",
       "Torresshire             26\n",
       "Travisville             23\n",
       "Vickimouth              15\n",
       "Webstertown             16\n",
       "West Alexis             20\n",
       "West Brandy             30\n",
       "West Brittanyton        24\n",
       "West Dawnfurt           29\n",
       "West Evan               12\n",
       "West Jefferyfurt        21\n",
       "West Kevintown           7\n",
       "West Oscar              29\n",
       "West Pamelaborough      14\n",
       "West Paulport           17\n",
       "West Peter              31\n",
       "West Sydneyhaven        18\n",
       "West Tony               19\n",
       "Williamchester          11\n",
       "Williamshire            31\n",
       "Wiseborough             19\n",
       "Yolandafurt             20\n",
       "Zimmermanmouth          24\n",
       "Name: date, Length: 125, dtype: int64"
      ]
     },
     "execution_count": 391,
     "metadata": {},
     "output_type": "execute_result"
    }
   ],
   "source": [
    "# Sum total rides using grouped data\n",
    "total_rides = merged_data_by_city['date'].count()\n",
    "total_rides"
   ]
  },
  {
   "cell_type": "code",
   "execution_count": 392,
   "metadata": {
    "scrolled": false
   },
   "outputs": [
    {
     "data": {
      "text/plain": [
       "<matplotlib.collections.PathCollection at 0x198ef750c50>"
      ]
     },
     "execution_count": 392,
     "metadata": {},
     "output_type": "execute_result"
    }
   ],
   "source": [
    "# Use matplotlib to create a scatter plot based upon the above data\n",
    "plt.scatter(total_rides, average_fare, marker='o', facecolors=city_type_colors['type'], edgecolors='black', s=city_type_colors['driver_count'])"
   ]
  },
  {
   "cell_type": "code",
   "execution_count": 393,
   "metadata": {},
   "outputs": [
    {
     "data": {
      "text/plain": [
       "(0, 65)"
      ]
     },
     "execution_count": 393,
     "metadata": {},
     "output_type": "execute_result"
    }
   ],
   "source": [
    "# Set the upper and lower limits of our x axis\n",
    "plt.xlim(0,65)"
   ]
  },
  {
   "cell_type": "code",
   "execution_count": 394,
   "metadata": {},
   "outputs": [
    {
     "data": {
      "text/plain": [
       "(15, 50)"
      ]
     },
     "execution_count": 394,
     "metadata": {},
     "output_type": "execute_result"
    }
   ],
   "source": [
    "# Set the upper and lower limits of our y axis\n",
    "plt.ylim(15,50)"
   ]
  },
  {
   "cell_type": "code",
   "execution_count": 395,
   "metadata": {},
   "outputs": [
    {
     "data": {
      "text/plain": [
       "<matplotlib.text.Text at 0x198ef8d4438>"
      ]
     },
     "execution_count": 395,
     "metadata": {},
     "output_type": "execute_result"
    }
   ],
   "source": [
    "# Create a title, x label, and y label for chart\n",
    "plt.title('Pyber Ride Sharing Data (2016)')\n",
    "plt.xlabel('Total Number of Rides (Per City)')\n",
    "plt.ylabel('Average Fare ($)')"
   ]
  },
  {
   "cell_type": "code",
   "execution_count": 396,
   "metadata": {},
   "outputs": [
    {
     "data": {
      "image/png": "[encoded data removed]",
      "text/plain": [
       "<matplotlib.figure.Figure at 0x198ef67a240>"
      ]
     },
     "metadata": {},
     "output_type": "display_data"
    }
   ],
   "source": [
    "# Print bubble plot to screen\n",
    "plt.show()"
   ]
  },
  {
   "cell_type": "code",
   "execution_count": 397,
   "metadata": {},
   "outputs": [
    {
     "name": "stdout",
     "output_type": "stream",
     "text": [
      "64669.119999999864 2407 74958\n"
     ]
    }
   ],
   "source": [
    "total_fares = merged_data['fare'].sum()\n",
    "total_rides = len(merged_data)\n",
    "total_drivers = merged_data['driver_count'].sum()\n",
    "\n",
    "print(total_fares, total_rides, total_drivers)"
   ]
  },
  {
   "cell_type": "code",
   "execution_count": 398,
   "metadata": {},
   "outputs": [
    {
     "data": {
      "text/plain": [
       "type\n",
       "Rural        125\n",
       "Suburban     657\n",
       "Urban       1625\n",
       "dtype: int64"
      ]
     },
     "execution_count": 398,
     "metadata": {},
     "output_type": "execute_result"
    }
   ],
   "source": [
    "merged_data_by_type = merged_data.groupby(by='type')\n",
    "rides_by_type = merged_data_by_type.size()\n",
    "rides_by_type.head()"
   ]
  },
  {
   "cell_type": "code",
   "execution_count": 399,
   "metadata": {},
   "outputs": [
    {
     "data": {
      "text/plain": [
       "type\n",
       "Rural        4255.09\n",
       "Suburban    20335.69\n",
       "Urban       40078.34\n",
       "Name: fare, dtype: float64"
      ]
     },
     "execution_count": 399,
     "metadata": {},
     "output_type": "execute_result"
    }
   ],
   "source": [
    "fare_by_type = merged_data_by_type['fare'].sum()\n",
    "fare_by_type.head()"
   ]
  },
  {
   "cell_type": "code",
   "execution_count": 400,
   "metadata": {},
   "outputs": [
    {
     "data": {
      "text/plain": [
       "type\n",
       "Rural         727\n",
       "Suburban     9730\n",
       "Urban       64501\n",
       "Name: driver_count, dtype: int64"
      ]
     },
     "execution_count": 400,
     "metadata": {},
     "output_type": "execute_result"
    }
   ],
   "source": [
    "drivers_by_type = merged_data_by_type['driver_count'].sum()\n",
    "drivers_by_type.head()"
   ]
  },
  {
   "cell_type": "code",
   "execution_count": 401,
   "metadata": {},
   "outputs": [
    {
     "data": {
      "text/plain": [
       "type\n",
       "Rural       0.065798\n",
       "Suburban    0.314458\n",
       "Urban       0.619745\n",
       "Name: fare, dtype: float64"
      ]
     },
     "execution_count": 401,
     "metadata": {},
     "output_type": "execute_result"
    }
   ],
   "source": [
    "fare_by_type_percent = fare_by_type / total_fares\n",
    "fare_by_type_percent.head()"
   ]
  },
  {
   "cell_type": "code",
   "execution_count": 402,
   "metadata": {},
   "outputs": [
    {
     "data": {
      "text/plain": [
       "type\n",
       "Rural       0.051932\n",
       "Suburban    0.272954\n",
       "Urban       0.675114\n",
       "dtype: float64"
      ]
     },
     "execution_count": 402,
     "metadata": {},
     "output_type": "execute_result"
    }
   ],
   "source": [
    "rides_by_type_percent = rides_by_type / total_rides\n",
    "rides_by_type_percent.head()"
   ]
  },
  {
   "cell_type": "code",
   "execution_count": 403,
   "metadata": {},
   "outputs": [
    {
     "data": {
      "text/plain": [
       "type\n",
       "Rural       0.009699\n",
       "Suburban    0.129806\n",
       "Urban       0.860495\n",
       "Name: driver_count, dtype: float64"
      ]
     },
     "execution_count": 403,
     "metadata": {},
     "output_type": "execute_result"
    }
   ],
   "source": [
    "drivers_by_type_percent = drivers_by_type / total_drivers\n",
    "drivers_by_type_percent.head()"
   ]
  },
  {
   "cell_type": "code",
   "execution_count": 404,
   "metadata": {},
   "outputs": [
    {
     "data": {
      "text/plain": [
       "<matplotlib.text.Text at 0x198ef7c6748>"
      ]
     },
     "execution_count": 404,
     "metadata": {},
     "output_type": "execute_result"
    }
   ],
   "source": [
    "# Labels for the sections of our pie chart\n",
    "labels = ['Rural', 'Suburban', 'Urban']\n",
    "\n",
    "# The values of each section of the pie chart\n",
    "sizes = [125, 657, 1625]\n",
    "\n",
    "# The colors of each section of the pie chart\n",
    "colors = ['gold', 'lightskyblue', 'lightcoral']\n",
    "\n",
    "# Tells matplotlib to seperate the \"Urban\" section from the others\n",
    "explode = (0, 0, 0.25)\n",
    "\n",
    "# Chart title\n",
    "plt.title('% of Total Rides by City Type')"
   ]
  },
  {
   "cell_type": "code",
   "execution_count": 405,
   "metadata": {},
   "outputs": [
    {
     "data": {
      "text/plain": [
       "([<matplotlib.patches.Wedge at 0x198ef8cefd0>,\n",
       "  <matplotlib.patches.Wedge at 0x198ef8059b0>,\n",
       "  <matplotlib.patches.Wedge at 0x198ef816240>],\n",
       " [<matplotlib.text.Text at 0x198ef7f9eb8>,\n",
       "  <matplotlib.text.Text at 0x198ef80b6a0>,\n",
       "  <matplotlib.text.Text at 0x198ef81e048>],\n",
       " [<matplotlib.text.Text at 0x198ef805470>,\n",
       "  <matplotlib.text.Text at 0x198ef80bc18>,\n",
       "  <matplotlib.text.Text at 0x198ef81e5c0>])"
      ]
     },
     "execution_count": 405,
     "metadata": {},
     "output_type": "execute_result"
    }
   ],
   "source": [
    "# Creates the pie chart based upon the values above\n",
    "# Automatically finds the percentages of each part of the pie chart\n",
    "plt.pie(sizes, explode=explode, labels=labels, colors=colors,\n",
    "        autopct='%1.1f%%', shadow=True, startangle=140)"
   ]
  },
  {
   "cell_type": "code",
   "execution_count": 406,
   "metadata": {},
   "outputs": [
    {
     "data": {
      "image/png": "[encoded data removed]",
      "text/plain": [
       "<matplotlib.figure.Figure at 0x198ef8ceef0>"
      ]
     },
     "metadata": {},
     "output_type": "display_data"
    }
   ],
   "source": [
    "# Print pie chart to screen\n",
    "plt.axis('image')\n",
    "plt.show()"
   ]
  },
  {
   "cell_type": "code",
   "execution_count": 407,
   "metadata": {},
   "outputs": [
    {
     "data": {
      "text/plain": [
       "<matplotlib.text.Text at 0x198ef85f780>"
      ]
     },
     "execution_count": 407,
     "metadata": {},
     "output_type": "execute_result"
    }
   ],
   "source": [
    "# Labels for the sections of our pie chart\n",
    "labels = ['Rural', 'Suburban', 'Urban']\n",
    "\n",
    "# The values of each section of the pie chart\n",
    "sizes = [727, 9730, 64501]\n",
    "    \n",
    "# The colors of each section of the pie chart\n",
    "colors = ['gold', 'lightskyblue', 'lightcoral']\n",
    "\n",
    "# Tells matplotlib to seperate the \"Urban\" section from the others\n",
    "explode = (0, 0, 0.25)\n",
    "\n",
    "# Chart title\n",
    "plt.title('% of Total Drivers by City Type')"
   ]
  },
  {
   "cell_type": "code",
   "execution_count": 408,
   "metadata": {},
   "outputs": [
    {
     "data": {
      "text/plain": [
       "([<matplotlib.patches.Wedge at 0x198ef68c438>,\n",
       "  <matplotlib.patches.Wedge at 0x198ef8eda90>,\n",
       "  <matplotlib.patches.Wedge at 0x198ef8fd320>],\n",
       " [<matplotlib.text.Text at 0x198ef8e4f98>,\n",
       "  <matplotlib.text.Text at 0x198ef8f5828>,\n",
       "  <matplotlib.text.Text at 0x198ef8fdf60>],\n",
       " [<matplotlib.text.Text at 0x198ef8ed550>,\n",
       "  <matplotlib.text.Text at 0x198ef8f5da0>,\n",
       "  <matplotlib.text.Text at 0x198ef906518>])"
      ]
     },
     "execution_count": 408,
     "metadata": {},
     "output_type": "execute_result"
    }
   ],
   "source": [
    "# Creates the pie chart based upon the values above\n",
    "# Automatically finds the percentages of each part of the pie chart\n",
    "plt.pie(sizes, explode=explode, labels=labels, colors=colors,\n",
    "        autopct='%1.1f%%', shadow=True, startangle=140)"
   ]
  },
  {
   "cell_type": "code",
   "execution_count": 409,
   "metadata": {},
   "outputs": [
    {
     "data": {
      "image/png": "[encoded data removed]",
      "text/plain": [
       "<matplotlib.figure.Figure at 0x198ef7b5b00>"
      ]
     },
     "metadata": {},
     "output_type": "display_data"
    }
   ],
   "source": [
    "# Print pie chart to screen\n",
    "plt.axis('image')\n",
    "plt.show()"
   ]
  },
  {
   "cell_type": "code",
   "execution_count": 410,
   "metadata": {},
   "outputs": [
    {
     "data": {
      "text/plain": [
       "<matplotlib.text.Text at 0x198ef9445c0>"
      ]
     },
     "execution_count": 410,
     "metadata": {},
     "output_type": "execute_result"
    }
   ],
   "source": [
    "# Labels for the sections of our pie chart\n",
    "labels = ['Rural', 'Suburban', 'Urban']\n",
    "\n",
    "# The values of each section of the pie chart\n",
    "sizes = [4255.09, 20335.69, 40078.34]\n",
    "    \n",
    "# The colors of each section of the pie chart\n",
    "colors = ['gold', 'lightskyblue', 'lightcoral']\n",
    "\n",
    "# Tells matplotlib to seperate the \"Urban\" section from the others\n",
    "explode = (0, 0, 0.25)\n",
    "\n",
    "# Chart title\n",
    "plt.title('% of Total Fares by City Type')"
   ]
  },
  {
   "cell_type": "code",
   "execution_count": 411,
   "metadata": {},
   "outputs": [
    {
     "data": {
      "text/plain": [
       "([<matplotlib.patches.Wedge at 0x198ef84aa90>,\n",
       "  <matplotlib.patches.Wedge at 0x198ef97bd30>,\n",
       "  <matplotlib.patches.Wedge at 0x198ef98a4a8>],\n",
       " [<matplotlib.text.Text at 0x198ef97b278>,\n",
       "  <matplotlib.text.Text at 0x198ef982a20>,\n",
       "  <matplotlib.text.Text at 0x198ef9922b0>],\n",
       " [<matplotlib.text.Text at 0x198ef97b7f0>,\n",
       "  <matplotlib.text.Text at 0x198ef98a0b8>,\n",
       "  <matplotlib.text.Text at 0x198ef992828>])"
      ]
     },
     "execution_count": 411,
     "metadata": {},
     "output_type": "execute_result"
    }
   ],
   "source": [
    "# Creates the pie chart based upon the values above\n",
    "# Automatically finds the percentages of each part of the pie chart\n",
    "plt.pie(sizes, explode=explode, labels=labels, colors=colors,\n",
    "        autopct='%1.1f%%', shadow=True, startangle=140)"
   ]
  },
  {
   "cell_type": "code",
   "execution_count": 412,
   "metadata": {},
   "outputs": [
    {
     "data": {
      "image/png": "[encoded data removed]",
      "text/plain": [
       "<matplotlib.figure.Figure at 0x198ef845dd8>"
      ]
     },
     "metadata": {},
     "output_type": "display_data"
    }
   ],
   "source": [
    "# Print pie chart to screen\n",
    "plt.axis('image')\n",
    "plt.show()"
   ]
  },
  {
   "cell_type": "code",
   "execution_count": null,
   "metadata": {
    "collapsed": true
   },
   "outputs": [],
   "source": []
  }
 ],
 "metadata": {
  "kernelspec": {
   "display_name": "Python 3",
   "language": "python",
   "name": "python3"
  },
  "language_info": {
   "codemirror_mode": {
    "name": "ipython",
    "version": 3
   },
   "file_extension": ".py",
   "mimetype": "text/x-python",
   "name": "python",
   "nbconvert_exporter": "python",
   "pygments_lexer": "ipython3",
   "version": "3.6.1"
  }
 },
 "nbformat": 4,
 "nbformat_minor": 2
}
